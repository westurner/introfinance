{
 "metadata": {
  "name": "1_PV_FV"
 },
 "nbformat": 3,
 "nbformat_minor": 0,
 "worksheets": [
  {
   "cells": [
    {
     "cell_type": "code",
     "collapsed": false,
     "input": [
      "# Example 1\n",
      "# What is future value of $100 two years from now at 10% interest?\n",
      "# Period: 1 year --> two periods\n",
      "interest = 0.10\n",
      "periods = 2\n",
      "def future_value(pv, rate, nper):\n",
      "    return pv * ((1+rate)**(nper))\n",
      "future_value(100, 0.10, 2)"
     ],
     "language": "python",
     "metadata": {},
     "outputs": [
      {
       "output_type": "pyout",
       "png": "[encoded data removed]",
       "prompt_number": 17,
       "text": [
        "121.00000000000001"
       ]
      }
     ],
     "prompt_number": 17
    },
    {
     "cell_type": "code",
     "collapsed": false,
     "input": [
      "# Example 2\n",
      "# Initial Value = $500\n",
      "# Interest Rate = 7%/year\n",
      "# What is the FV @ 10 years?\n",
      "future_value(500, 0.07, 10)"
     ],
     "language": "python",
     "metadata": {},
     "outputs": [
      {
       "output_type": "pyout",
       "png": "[encoded data removed]",
       "prompt_number": 18,
       "text": [
        "983.5756786447832"
       ]
      }
     ],
     "prompt_number": 18
    },
    {
     "cell_type": "code",
     "collapsed": false,
     "input": [
      "# Example 3\n",
      "#What are the future values of investing $100 at 10% versus 5% for 100 years?\n",
      "fv_10 = future_value(100, 0.1, 100)\n",
      "fv_5 = future_value(100, 0.5, 100)\n",
      "print(\"10 years:\", fv_10)\n",
      "print(\"5 years:\", fv_5)\n",
      "difference = fv_10 - fv_5\n",
      "print(\"difference:\", difference)"
     ],
     "language": "python",
     "metadata": {},
     "outputs": [
      {
       "output_type": "stream",
       "stream": "stdout",
       "text": [
        "('10 years:', 1378061.233982238)\n",
        "('5 years:', 4.065611775352152e+19)\n",
        "('difference:', -4.0656117753520144e+19)\n"
       ]
      }
     ],
     "prompt_number": 19
    },
    {
     "cell_type": "code",
     "collapsed": false,
     "input": [
      "# Example 4\n",
      "# 24\t0.06\t386\n",
      "future_value(24, 0.06, 2012-1626)"
     ],
     "language": "python",
     "metadata": {},
     "outputs": [
      {
       "output_type": "pyout",
       "png": "[encoded data removed]",
       "prompt_number": 20,
       "text": [
        "140693888847.335"
       ]
      }
     ],
     "prompt_number": 20
    },
    {
     "cell_type": "code",
     "collapsed": false,
     "input": [
      "# Example 5\n",
      "# what is the PV of receiving $110 one year from now if the interest rate is 10%?\n",
      "def present_value_from_future(fv, rate, nper):\n",
      "    # fv = pv * ((1+rate)**(nper))\n",
      "    # ...\n",
      "    # divide both sides by fv, divide both sides by pv\n",
      "    # \n",
      "    return fv*(rate + 1)**(-nper)\n",
      "present_value_from_future(110, 0.10, 1)"
     ],
     "language": "python",
     "metadata": {},
     "outputs": [
      {
       "output_type": "pyout",
       "png": "[encoded data removed]",
       "prompt_number": 21,
       "text": [
        "100.0"
       ]
      }
     ],
     "prompt_number": 21
    },
    {
     "cell_type": "code",
     "collapsed": false,
     "input": [
      "# Example 6\n",
      "# suppose you will inherit $121,000 two years from now and the interest rate is 10%\n",
      "# what is the pv?\n",
      "_1 = present_value_from_future(121000, 0.10, 2)\n",
      "print(_1)\n",
      "\n",
      "import numpy.lib.financial as fin\n",
      "_2 = -1*fin.pv(0.10, 2, 0, 121000)\n",
      "print(_2)\n",
      "assert _1 == _2"
     ],
     "language": "python",
     "metadata": {},
     "outputs": [
      {
       "output_type": "stream",
       "stream": "stdout",
       "text": [
        "100000.0\n",
        "100000.0\n"
       ]
      }
     ],
     "prompt_number": 22
    },
    {
     "cell_type": "code",
     "collapsed": false,
     "input": [
      "def xl_FV(rate, nper, pmt=0, pv=0, type=None):\n",
      "    return -1*(future_value(pv, rate, nper))\n",
      "\n",
      "rate=0.06\n",
      "nper=2012-1626\n",
      "pmt=0\n",
      "pv=24\n",
      "_1 = xl_FV(rate, nper, pmt, pv)\n",
      "_2 = -1*future_value(pv, rate, nper)\n",
      "\n",
      "import numpy.lib.financial as fin\n",
      "_3 = fin.fv(rate, nper, pmt, pv)\n",
      "print(_1)\n",
      "print(_2)\n",
      "print(_3)\n",
      "assert _1 == _2\n",
      "assert _1 == _3\n",
      "assert _2 == _3"
     ],
     "language": "python",
     "metadata": {},
     "outputs": [
      {
       "output_type": "stream",
       "stream": "stdout",
       "text": [
        "-1.40693888847e+11\n",
        "-1.40693888847e+11\n",
        "-140693888847.0\n"
       ]
      }
     ],
     "prompt_number": 23
    },
    {
     "cell_type": "code",
     "collapsed": false,
     "input": [
      "from sympy import symbols, Eq, solve\n",
      "fv, pv,rate, nper = symbols(\"fv pv rate nper\")\n",
      "\n",
      "terms_of_fv = Eq(fv, pv * ((1+rate)**(nper)))\n",
      "display(terms_of_fv)\n",
      "print(terms_of_fv)\n",
      "\n",
      "terms_of_pv = Eq(pv, solve(terms_of_fv, pv)[0])\n",
      "display(terms_of_pv)\n",
      "print(terms_of_pv)\n",
      "\n",
      "terms_of_rate = Eq(rate, solve(terms_of_fv, rate)[0])\n",
      "display(terms_of_rate)\n",
      "print(terms_of_rate)"
     ],
     "language": "python",
     "metadata": {},
     "outputs": [
      {
       "latex": [
        "$$fv = pv \\left(rate + 1\\right)^{nper}$$"
       ],
       "output_type": "display_data",
       "png": "[encoded data removed]",
       "text": [
        "\n",
        "                  nper\n",
        "fv = pv\u22c5(rate + 1)    "
       ]
      },
      {
       "output_type": "stream",
       "stream": "stdout",
       "text": [
        "fv == pv*(rate + 1)**nper\n"
       ]
      },
      {
       "latex": [
        "$$pv = \\frac{fv}{\\left(rate + 1\\right)^{nper}}$$"
       ],
       "output_type": "display_data",
       "png": "[encoded data removed]",
       "text": [
        "\n",
        "                  -nper\n",
        "pv = fv\u22c5(rate + 1)     "
       ]
      },
      {
       "output_type": "stream",
       "stream": "stdout",
       "text": [
        "pv == fv*(rate + 1)**(-nper)\n"
       ]
      },
      {
       "latex": [
        "$$rate = \\left(\\frac{fv}{pv}\\right)^{\\frac{1}{nper}} -1$$"
       ],
       "output_type": "display_data",
       "png": "[encoded data removed]",
       "text": [
        "\n",
        "             \u23bd\u23bd\u23bd\u23bd    \n",
        "            \u2571 fv     \n",
        "rate = nper\u2571  \u2500\u2500  - 1\n",
        "         \u2572\u2571   pv     "
       ]
      },
      {
       "output_type": "stream",
       "stream": "stdout",
       "text": [
        "rate == (fv/pv)**(1/nper) - 1\n"
       ]
      }
     ],
     "prompt_number": 24
    },
    {
     "cell_type": "code",
     "collapsed": false,
     "input": [
      "# Assignment 1 / Quiz\n",
      "from numpy.lib.financial import fv, pv\n",
      "# 2\n",
      "print( -1*fv(0.12, 10, 0, 100) )\n",
      "print( -1*fv(0.04, 10, 0, 200) )\n",
      "# true"
     ],
     "language": "python",
     "metadata": {},
     "outputs": [
      {
       "output_type": "stream",
       "stream": "stdout",
       "text": [
        "310.584820834\n",
        "296.048856984\n"
       ]
      }
     ],
     "prompt_number": 97
    },
    {
     "cell_type": "code",
     "collapsed": false,
     "input": [
      "#3\n",
      "print( pv(0.06, 1, 0, 400) )\n",
      "print( fv(0.06, 1, 0, 378) )"
     ],
     "language": "python",
     "metadata": {},
     "outputs": [
      {
       "output_type": "stream",
       "stream": "stdout",
       "text": [
        "-377.358490566\n",
        "-400.68\n"
       ]
      }
     ],
     "prompt_number": 26
    },
    {
     "cell_type": "code",
     "collapsed": false,
     "input": [
      "#3 b\n",
      "# shawn wants to buy a new telescope.\n",
      "# he estimates that it will take him one year to save the money\n",
      "# the telescope will cost $200\n",
      "# at 6%, how much does shawn need to set aside today to purchase the telescope in one year?\n",
      "nper = 1\n",
      "irate = 0.06\n",
      "cost = 200.0\n",
      "# 200 = fv(irate, nper, 0, x)\n",
      "ans=-1.0*pv(irate, nper, 0, cost)\n",
      "display(ans)\n",
      "checkfig = -1.0*fv(irate, nper, 0, ans)\n",
      "assert checkfig - cost <= 0.01"
     ],
     "language": "python",
     "metadata": {},
     "outputs": [
      {
       "output_type": "display_data",
       "png": "[encoded data removed]",
       "text": [
        "188.67924528301887"
       ]
      }
     ],
     "prompt_number": 133
    },
    {
     "cell_type": "code",
     "collapsed": false,
     "input": [
      "#4\n",
      "print('jeff', fv(0.03, 20, 0, 1000))\n",
      "print('marge', fv(0.07, 20, 0, 500))"
     ],
     "language": "python",
     "metadata": {},
     "outputs": [
      {
       "output_type": "stream",
       "stream": "stdout",
       "text": [
        "('jeff', -1806.1112346694149)\n",
        "('marge', -1934.8422312430916)\n"
       ]
      }
     ],
     "prompt_number": 27
    },
    {
     "cell_type": "code",
     "collapsed": false,
     "input": [
      "#4\n",
      "import numpy.lib.financial as fin\n",
      "# johnny and darren both earn $100 working on their respective neighbors' big farms\n",
      "# johnny puts $100 in the piggy bank that his parents gave him to encourage him to save\n",
      "# darren puts his money in a savings account his parents set up for him\n",
      "# the savings account pays 3% interest\n",
      "# they both take their money out after 5 years\n",
      "# how much more money does darren have than johnny?\n",
      "(-1*fin.fv(0.03, 5, 0, 100)) - 100"
     ],
     "language": "python",
     "metadata": {},
     "outputs": [
      {
       "output_type": "pyout",
       "png": "[encoded data removed]",
       "prompt_number": 135,
       "text": [
        "15.927407430000002"
       ]
      }
     ],
     "prompt_number": 135
    },
    {
     "cell_type": "code",
     "collapsed": false,
     "input": [
      "#5\n",
      "print('don', fv(0.07, 10, 0, 50000) )"
     ],
     "language": "python",
     "metadata": {},
     "outputs": [
      {
       "output_type": "stream",
       "stream": "stdout",
       "text": [
        "('don', -98357.567864478318)\n"
       ]
      }
     ],
     "prompt_number": 28
    },
    {
     "cell_type": "code",
     "collapsed": false,
     "input": [
      "#5b\n",
      "# your dad invested $25 for you in 1942 in a fund and you have not withdrawn any money since\n",
      "# if the fund has averaged a return of 8% over the last 70 years,\n",
      "# what is the current value of that investment?\n",
      "-1*fin.fv(0.08, 70, 0, 25)"
     ],
     "language": "python",
     "metadata": {},
     "outputs": [
      {
       "output_type": "pyout",
       "png": "[encoded data removed]",
       "prompt_number": 139,
       "text": [
        "5465.1601475399448"
       ]
      }
     ],
     "prompt_number": 139
    },
    {
     "cell_type": "code",
     "collapsed": false,
     "input": [
      "#6\n",
      "jennifer = fv(0.07, 15, 0, 10000)\n",
      "cindy = fv(0.07, 15, 0, 8000)\n",
      "print('jennifer', jennifer)\n",
      "print('cindy', cindy)\n",
      "jennifer-cindy"
     ],
     "language": "python",
     "metadata": {},
     "outputs": [
      {
       "output_type": "stream",
       "stream": "stdout",
       "text": [
        "('jennifer', -27590.315407153365)\n",
        "('cindy', -22072.252325722689)\n"
       ]
      },
      {
       "output_type": "pyout",
       "png": "[encoded data removed]",
       "prompt_number": 29,
       "text": [
        "-5518.0630814306751"
       ]
      }
     ],
     "prompt_number": 29
    },
    {
     "cell_type": "code",
     "collapsed": false,
     "input": [
      "#6\n",
      "# bridgette's grandparents opened a savings account for her and placed $500 in the account\n",
      "# the account pays 3.5% interest\n",
      "# bridgette wants to be a singer and she has her heart set on a new karaoke machine\n",
      "# the machine costs $150\n",
      "# how much less will the account be worth in 8 years if she buys the karaoke machine now versus\n",
      "# leaving the account untouched?\n",
      "irate=0.035\n",
      "nper = 8\n",
      "-1*fin.fv(irate, nper, 0, 500) - -1*fin.fv(irate, nper, 0, 150)\n"
     ],
     "language": "python",
     "metadata": {},
     "outputs": [
      {
       "output_type": "pyout",
       "png": "[encoded data removed]",
       "prompt_number": 141,
       "text": [
        "460.88316293719095"
       ]
      }
     ],
     "prompt_number": 141
    },
    {
     "cell_type": "code",
     "collapsed": false,
     "input": [
      "#7\n",
      "# 20000 earning 4.9%\n",
      "# 20000 loan at 2.9% for 5 years\n",
      "investments = fv(0.049, 5, 0, 20000)\n",
      "expenses = fv(0.029, 5, 0, 20000)\n",
      "print('investments', investments)\n",
      "print('expenses', expenses)\n",
      "print(-1*investments > -1*expenses)\n",
      "(-1*investments)-(-1*expenses)"
     ],
     "language": "python",
     "metadata": {},
     "outputs": [
      {
       "output_type": "stream",
       "stream": "stdout",
       "text": [
        "('investments', -25404.311929604974)\n",
        "('expenses', -23073.148938322971)\n",
        "True\n"
       ]
      },
      {
       "output_type": "pyout",
       "png": "[encoded data removed]",
       "prompt_number": 30,
       "text": [
        "2331.1629912820026"
       ]
      }
     ],
     "prompt_number": 30
    },
    {
     "cell_type": "code",
     "collapsed": false,
     "input": [
      "#7b\n",
      "# the johnson family is worried about their ability to pay college tuition for their daughter Chloe\n",
      "# tuition rates are currently 9500 per year at the state college\n",
      "# and have been increasing at a rate of 7% annually\n",
      "# chloe will begin college in 7 years\n",
      "# the johnsons have 9500 set aside now in a college plan that will earn 6% per year\n",
      "# they recently heard about a plan to pre-pay tuition at current rates,\n",
      "# that is, pay 9500 per year of college\n",
      "# should they pre-pay chloe's first year now or keep the money invested and\n",
      "# pay the tuition 7 years from now?\n",
      "# how much are they saving in FV terms with this decision?\n",
      "tuition = 9500\n",
      "tuition_increase_rate = 0.07\n",
      "nper = 7\n",
      "tuition_in_7_years = tuition*((1+tuition_increase_rate)**nper)\n",
      "display(tuition_in_7_years)\n",
      "#display(tuition_in_7_years - tuition)\n",
      "\n",
      "irate = 0.06\n",
      "savings_fv = -1*fin.fv(irate, nper, 0, tuition)\n",
      "display(savings_fv)\n",
      "\n",
      "tuition_in_7_years - savings_fv"
     ],
     "language": "python",
     "metadata": {},
     "outputs": [
      {
       "output_type": "display_data",
       "png": "[encoded data removed]",
       "text": [
        "15254.924026545092"
       ]
      },
      {
       "output_type": "display_data",
       "png": "[encoded data removed]",
       "text": [
        "14284.487460417926"
       ]
      },
      {
       "output_type": "pyout",
       "png": "[encoded data removed]",
       "prompt_number": 146,
       "text": [
        "970.43656612716586"
       ]
      }
     ],
     "prompt_number": 146
    },
    {
     "cell_type": "code",
     "collapsed": false,
     "input": [
      "#8\n",
      "# 100000 to invest\n",
      "a = (-1*fv(0.60, 4, 0, 10000))+90000\n",
      "b = (-1*fv(0.12, 4, 0, 100000))\n",
      "print('a', a)\n",
      "print('b', b)\n",
      "_max = max( (a, 'a'), (b, 'b') )\n",
      "_min = min( (a, 'a'), (b, 'b') )\n",
      "print(_max)\n",
      "print(_max[0]-_min[0])"
     ],
     "language": "python",
     "metadata": {},
     "outputs": [
      {
       "output_type": "stream",
       "stream": "stdout",
       "text": [
        "('a', 155536.0)\n",
        "('b', 157351.93600000005)\n",
        "(157351.93600000005, 'b')\n",
        "1815.936\n"
       ]
      }
     ],
     "prompt_number": 31
    },
    {
     "cell_type": "code",
     "collapsed": false,
     "input": [
      "#8\n",
      "# ralph knows that he is going to have to replace his roof soon\n",
      "# if he has the roof replaced now, it will cost 10000\n",
      "# he could wait 5 years, but it will then cost him 20000\n",
      "# at what rate will these options cost the same?\n",
      "# (hint: this is also known as the break even point.\n",
      "#  exact calculation up to two decimals is not difficult (THANKS)\n",
      "#  if stuck, trial and error will help.\n",
      "#    no more than two decimals in the % interest rate,\n",
      "#    but do not enter the % sign)\n",
      "cost_now = 10000\n",
      "cost_later = 20000\n",
      "# 20000 = fin.fv(X, 5, 0, 10000)\n",
      "# 20000 = 10000*(1+x)**5"
     ],
     "language": "python",
     "metadata": {},
     "outputs": [],
     "prompt_number": 147
    },
    {
     "cell_type": "code",
     "collapsed": false,
     "input": [
      "from sympy import Eq, symbols, abc, solve\n",
      "\n",
      "expr = Eq(20000, 10000*((1+abc.r)**5))\n",
      "display(expr)\n",
      "display(terms_of_rate)\n",
      "print(terms_of_rate)\n",
      "ans=terms_of_rate.subs({'fv':20000, 'pv':10000, 'nper': 5})\n",
      "display(ans)\n",
      "print(ans)\n",
      "#float(ans)\n",
      "ans.evalf(n=2)\n",
      "rate = list(ans.evalf(n=5).atoms())[0]\n",
      "print(rate)\n",
      "print(rate*100.0)\n",
      "_fv = fin.fv(rate, 5, 0, 10000)\n",
      "print(_fv)\n",
      "assert _fv - 20000 <= 0.01"
     ],
     "language": "python",
     "metadata": {},
     "outputs": [
      {
       "latex": [
        "$$20000 = 10000 \\left(r + 1\\right)^{5}$$"
       ],
       "output_type": "display_data",
       "png": "[encoded data removed]",
       "text": [
        "\n",
        "                     5\n",
        "20000 = 10000\u22c5(r + 1) "
       ]
      },
      {
       "latex": [
        "$$rate = \\left(\\frac{fv}{pv}\\right)^{\\frac{1}{nper}} -1$$"
       ],
       "output_type": "display_data",
       "png": "[encoded data removed]",
       "text": [
        "\n",
        "             \u23bd\u23bd\u23bd\u23bd    \n",
        "            \u2571 fv     \n",
        "rate = nper\u2571  \u2500\u2500  - 1\n",
        "         \u2572\u2571   pv     "
       ]
      },
      {
       "output_type": "stream",
       "stream": "stdout",
       "text": [
        "rate == (fv/pv)**(1/nper) - 1\n"
       ]
      },
      {
       "latex": [
        "$$rate = -1 + \\sqrt[5]{2}$$"
       ],
       "output_type": "display_data",
       "png": "[encoded data removed]",
       "text": [
        "\n",
        "            5 \u23bd\u23bd\u23bd\n",
        "rate = -1 + \u2572\u2571 2 "
       ]
      },
      {
       "output_type": "stream",
       "stream": "stdout",
       "text": [
        "rate == -1 + 2**(1/5)\n",
        "0.14870\n",
        "14.8698806762695\n",
        "-20000.0393285159\n"
       ]
      }
     ],
     "prompt_number": 187
    },
    {
     "cell_type": "code",
     "collapsed": false,
     "input": [
      "#9\n",
      "import numpy.lib.financial as fin\n",
      "from collections import namedtuple\n",
      "Model = namedtuple('Model', ('name','cost','tradein'))\n",
      "models = {\n",
      "   'a': Model('a', 32000, 32000*0.60),\n",
      "   'b': Model('b', 28000, 28000*0.45)\n",
      "}\n",
      "rate = 0.05\n",
      "nper = 4\n",
      "\n",
      "uhms = []\n",
      "for k,v in models.iteritems():\n",
      "    print(k, v)\n",
      "    future_value = fin.fv(rate, nper, 0, -1*v.cost )\n",
      "    pv_of_tradein = fin.pv(rate, nper, 0, -1*v.tradein)\n",
      "    print('future_value', future_value)\n",
      "    print('pv_of_tradein', pv_of_tradein)\n",
      "    pv_less_tradein = pv_of_tradein - future_value\n",
      "    print('pv_less_tradein', pv_less_tradein)\n",
      "    loss = (future_value)\n",
      "    uhm = (future_value-v.tradein)\n",
      "    print('uhm', uhm)\n",
      "    uhms.append( (uhm, k) )\n",
      "_max = max(uhms)\n",
      "_min = min(uhms)\n",
      "print('max', _max)\n",
      "print('min', _min)\n",
      "print('diff', _max[0]-_min[0])"
     ],
     "language": "python",
     "metadata": {},
     "outputs": [
      {
       "output_type": "stream",
       "stream": "stdout",
       "text": [
        "('a', Model(name='a', cost=32000, tradein=19200.0))\n",
        "('future_value', 38896.200000000004)\n",
        "('pv_of_tradein', 15795.887516004132)\n",
        "('pv_less_tradein', -23100.312483995873)\n",
        "('uhm', 19696.200000000004)\n",
        "('b', Model(name='b', cost=28000, tradein=12600.0))\n",
        "('future_value', 34034.175000000003)\n",
        "('pv_of_tradein', 10366.051182377711)\n",
        "('pv_less_tradein', -23668.123817622291)\n",
        "('uhm', 21434.175000000003)\n",
        "('max', (21434.175000000003, 'b'))\n",
        "('min', (19696.200000000004, 'a'))\n",
        "('diff', 1737.9749999999985)\n"
       ]
      }
     ],
     "prompt_number": 32
    },
    {
     "cell_type": "code",
     "collapsed": false,
     "input": [
      "#9\n",
      "problem = \"\"\"RONDO is in the market for a new car.\n",
      "He has narrowed his search down to 2 models.\n",
      "Model A costs $32,000 and Model B costs $28,000.\n",
      "With both cars, he plans to pay cash and own them for 4 years before trading in for a new car.\n",
      "His research indicates that the trade in value for Model A after 4 years is 60% of the initial purchase price,\n",
      "while the trade in value for Model B is 45%.\n",
      "The interest rate is 5%. (Interest rate on what? It says he is paying cash.)\n",
      "For simplicity assume that operating and maintenance costs for the models are identical.\n",
      "Which model is the better decision and how much \"cheaper\" is it than the alternative?\n",
      "\"\"\"\n",
      "a_cost = 32000\n",
      "b_cost = 28000\n",
      "a_tradein = 0.60*a_cost\n",
      "b_tradein = 0.45*b_cost\n",
      "print('a:tradein', a_tradein)\n",
      "print('b:tradein', b_tradein)\n",
      "rate = 0.05 # opportunity cost? assume that he would have what?\n",
      "# imperfect information being what it is, this is a bad question.\n",
      "a_actual_cost = a_cost - a_tradein\n",
      "b_actual_cost = b_cost - b_tradein\n",
      "print('a:actual', a_actual_cost)\n",
      "print('b:actual', b_actual_cost)\n",
      "# w/out any assumed intrest or action of rondo,\n",
      "# b would be 2600 more expensive\n",
      "# or, a would be 2600 less expensive\n",
      "a_actual_cost - b_actual_cost\n",
      "fv(0.05, 4, 0, 2600)"
     ],
     "language": "python",
     "metadata": {},
     "outputs": [
      {
       "output_type": "stream",
       "stream": "stdout",
       "text": [
        "('a:tradein', 19200.0)\n",
        "('b:tradein', 12600.0)\n",
        "('a:actual', 12800.0)\n",
        "('b:actual', 15400.0)\n"
       ]
      },
      {
       "output_type": "pyout",
       "png": "[encoded data removed]",
       "prompt_number": 33,
       "text": [
        "-3160.3162500000008"
       ]
      }
     ],
     "prompt_number": 33
    },
    {
     "cell_type": "code",
     "collapsed": false,
     "input": [
      "from pandas import DataFrame, Series, Index\n",
      "import numpy.lib.financial as fin\n",
      "idx = Index(['A','B'])\n",
      "i_rate = 0.05\n",
      "nper = 4\n",
      "df = DataFrame(index=idx)\n",
      "df['price'] = Series([32000, 28000], index=idx)\n",
      "display(df['price'].diff()['B'])\n",
      "df['tradein_pct'] = Series([0.60, 0.45], index=idx)\n",
      "df['tradein_return'] = df['price'] * df['tradein_pct']\n",
      "df['cost_of_ownership'] = df['price'] - df['tradein_return']\n",
      "display(df)\n",
      "col = df['price']\n",
      "coo = df['cost_of_ownership'].diff()\n",
      "display(coo['B'])\n",
      "_pv = fin.pv(i_rate, nper, 0, coo['B'])\n",
      "_fv = fin.fv(i_rate, nper, 0, 4000)\n",
      "display(_pv)\n",
      "display(_fv)\n",
      "4000+_fv+2600\n",
      "#display(4000-coo['B'])\n",
      "(-1*_fv-4000)+2600"
     ],
     "language": "python",
     "metadata": {},
     "outputs": [
      {
       "output_type": "display_data",
       "png": "[encoded data removed]",
       "text": [
        "-4000.0"
       ]
      },
      {
       "html": [
        "<div style=\"max-height:1000px;max-width:1500px;overflow:auto;\">\n",
        "<table border=\"1\">\n",
        "  <thead>\n",
        "    <tr>\n",
        "      <th></th>\n",
        "      <th>price</th>\n",
        "      <th>tradein_pct</th>\n",
        "      <th>tradein_return</th>\n",
        "      <th>cost_of_ownership</th>\n",
        "    </tr>\n",
        "  </thead>\n",
        "  <tbody>\n",
        "    <tr>\n",
        "      <td><strong>A</strong></td>\n",
        "      <td> 32000</td>\n",
        "      <td> 0.60</td>\n",
        "      <td> 19200</td>\n",
        "      <td> 12800</td>\n",
        "    </tr>\n",
        "    <tr>\n",
        "      <td><strong>B</strong></td>\n",
        "      <td> 28000</td>\n",
        "      <td> 0.45</td>\n",
        "      <td> 12600</td>\n",
        "      <td> 15400</td>\n",
        "    </tr>\n",
        "  </tbody>\n",
        "</table>\n",
        "</div>"
       ],
       "output_type": "display_data",
       "text": [
        "\n",
        "   price  tradein_pct  tradein_return  cost_of_ownership\n",
        "A  32000         0.60           19200              12800\n",
        "B  28000         0.45           12600              15400"
       ]
      },
      {
       "output_type": "display_data",
       "png": "[encoded data removed]",
       "text": [
        "2600.0"
       ]
      },
      {
       "output_type": "display_data",
       "png": "[encoded data removed]",
       "text": [
        "-2139.0264344588927"
       ]
      },
      {
       "output_type": "display_data",
       "png": "[encoded data removed]",
       "text": [
        "-4862.0250000000005"
       ]
      },
      {
       "output_type": "pyout",
       "png": "[encoded data removed]",
       "prompt_number": 96,
       "text": [
        "3462.0250000000005"
       ]
      }
     ],
     "prompt_number": 96
    },
    {
     "cell_type": "code",
     "collapsed": false,
     "input": [
      "#10\n",
      "# christine is a new homebuyer.\n",
      "# she wants to make sure that she incorporates the cost of maintenance into her decision\n",
      "# she estimates that routine repairs and maintenance on the home she is considering will be $1590\n",
      "# in the first year (one year from now)\n",
      "# due to the increasing age of the home, she expects that maintenace costs will increase 6% annually\n",
      "# the interest rate is 5%\n",
      "# if she plans to be in the home for 10 years, what is the present value of all future maintenace\n",
      "# (note that maintenance costs will change annually, and starts one year from now\n",
      "#  and she plans to do the last one before selling her house"
     ],
     "language": "python",
     "metadata": {},
     "outputs": [],
     "prompt_number": 34
    },
    {
     "cell_type": "code",
     "collapsed": false,
     "input": [
      "from pandas import DataFrame, Series, Index\n",
      "import numpy.lib.financial as fin\n",
      "mc_rate = 0.06\n",
      "i_rate = 0.05\n",
      "nper = 10\n",
      "index = Index(range(0,nper))\n",
      "mcosts = Series( [1590*((1+mc_rate)**n) for n in index] )\n",
      "df = DataFrame(index=index)\n",
      "df['mcosts'] = mcosts\n",
      "col = df['mcosts']\n",
      "df['pv'] = Series( [-1*fin.pv(i_rate, i+1, 0, col[i]) for i in df.index ] )\n",
      "display(df)\n",
      "print(\"answer:\", df['pv'].sum())\n",
      "#df['mcosts_cumsum'] = df['mcosts'].cumsum()\n",
      "#df['pv_cumsum'] = df['pv'].cumsum()\n",
      "df.plot()"
     ],
     "language": "python",
     "metadata": {},
     "outputs": [
      {
       "html": [
        "<div style=\"max-height:1000px;max-width:1500px;overflow:auto;\">\n",
        "<table border=\"1\">\n",
        "  <thead>\n",
        "    <tr>\n",
        "      <th></th>\n",
        "      <th>mcosts</th>\n",
        "      <th>pv</th>\n",
        "    </tr>\n",
        "  </thead>\n",
        "  <tbody>\n",
        "    <tr>\n",
        "      <td><strong>0</strong></td>\n",
        "      <td> 1590.000000</td>\n",
        "      <td> 1514.285714</td>\n",
        "    </tr>\n",
        "    <tr>\n",
        "      <td><strong>1</strong></td>\n",
        "      <td> 1685.400000</td>\n",
        "      <td> 1528.707483</td>\n",
        "    </tr>\n",
        "    <tr>\n",
        "      <td><strong>2</strong></td>\n",
        "      <td> 1786.524000</td>\n",
        "      <td> 1543.266602</td>\n",
        "    </tr>\n",
        "    <tr>\n",
        "      <td><strong>3</strong></td>\n",
        "      <td> 1893.715440</td>\n",
        "      <td> 1557.964379</td>\n",
        "    </tr>\n",
        "    <tr>\n",
        "      <td><strong>4</strong></td>\n",
        "      <td> 2007.338366</td>\n",
        "      <td> 1572.802135</td>\n",
        "    </tr>\n",
        "    <tr>\n",
        "      <td><strong>5</strong></td>\n",
        "      <td> 2127.778668</td>\n",
        "      <td> 1587.781203</td>\n",
        "    </tr>\n",
        "    <tr>\n",
        "      <td><strong>6</strong></td>\n",
        "      <td> 2255.445388</td>\n",
        "      <td> 1602.902929</td>\n",
        "    </tr>\n",
        "    <tr>\n",
        "      <td><strong>7</strong></td>\n",
        "      <td> 2390.772112</td>\n",
        "      <td> 1618.168671</td>\n",
        "    </tr>\n",
        "    <tr>\n",
        "      <td><strong>8</strong></td>\n",
        "      <td> 2534.218439</td>\n",
        "      <td> 1633.579801</td>\n",
        "    </tr>\n",
        "    <tr>\n",
        "      <td><strong>9</strong></td>\n",
        "      <td> 2686.271545</td>\n",
        "      <td> 1649.137704</td>\n",
        "    </tr>\n",
        "  </tbody>\n",
        "</table>\n",
        "</div>"
       ],
       "output_type": "display_data",
       "text": [
        "\n",
        "        mcosts           pv\n",
        "0  1590.000000  1514.285714\n",
        "1  1685.400000  1528.707483\n",
        "2  1786.524000  1543.266602\n",
        "3  1893.715440  1557.964379\n",
        "4  2007.338366  1572.802135\n",
        "5  2127.778668  1587.781203\n",
        "6  2255.445388  1602.902929\n",
        "7  2390.772112  1618.168671\n",
        "8  2534.218439  1633.579801\n",
        "9  2686.271545  1649.137704"
       ]
      },
      {
       "output_type": "stream",
       "stream": "stdout",
       "text": [
        "('answer:', 15808.59662091505)\n"
       ]
      },
      {
       "output_type": "pyout",
       "prompt_number": 72,
       "text": [
        "Axes(0.125,0.125;0.775x0.775)"
       ]
      },
      {
       "output_type": "display_data",
       "png": "[encoded data removed]"
      }
     ],
     "prompt_number": 72
    },
    {
     "cell_type": "code",
     "collapsed": false,
     "input": [],
     "language": "python",
     "metadata": {},
     "outputs": [],
     "prompt_number": 37
    }
   ],
   "metadata": {}
  }
 ]
}